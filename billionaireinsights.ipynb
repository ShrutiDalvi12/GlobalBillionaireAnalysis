{
 "cells": [
  {
   "cell_type": "markdown",
   "metadata": {},
   "source": [
    "# Analysis of Billionaires around the globe using Python "
   ]
  },
  {
   "cell_type": "code",
   "execution_count": 1,
   "metadata": {},
   "outputs": [],
   "source": [
    "import numpy as np\n",
    "import pandas as pd\n",
    "import matplotlib.pyplot as plt\n",
    "import seaborn as sns\n",
    "import warnings\n",
    "warnings.filterwarnings(\"ignore\")\n"
   ]
  },
  {
   "cell_type": "code",
   "execution_count": 2,
   "metadata": {},
   "outputs": [
    {
     "data": {
      "text/html": [
       "<div>\n",
       "<style scoped>\n",
       "    .dataframe tbody tr th:only-of-type {\n",
       "        vertical-align: middle;\n",
       "    }\n",
       "\n",
       "    .dataframe tbody tr th {\n",
       "        vertical-align: top;\n",
       "    }\n",
       "\n",
       "    .dataframe thead th {\n",
       "        text-align: right;\n",
       "    }\n",
       "</style>\n",
       "<table border=\"1\" class=\"dataframe\">\n",
       "  <thead>\n",
       "    <tr style=\"text-align: right;\">\n",
       "      <th></th>\n",
       "      <th>Name</th>\n",
       "      <th>NetWorth</th>\n",
       "      <th>Country</th>\n",
       "      <th>Source</th>\n",
       "      <th>Rank</th>\n",
       "      <th>Age</th>\n",
       "      <th>Industry</th>\n",
       "    </tr>\n",
       "  </thead>\n",
       "  <tbody>\n",
       "    <tr>\n",
       "      <th>0</th>\n",
       "      <td>Jeff Bezos</td>\n",
       "      <td>$177 B</td>\n",
       "      <td>United States</td>\n",
       "      <td>Amazon</td>\n",
       "      <td>1</td>\n",
       "      <td>57.0</td>\n",
       "      <td>Technology</td>\n",
       "    </tr>\n",
       "    <tr>\n",
       "      <th>1</th>\n",
       "      <td>Elon Musk</td>\n",
       "      <td>$151 B</td>\n",
       "      <td>United States</td>\n",
       "      <td>Tesla, SpaceX</td>\n",
       "      <td>2</td>\n",
       "      <td>49.0</td>\n",
       "      <td>Automotive</td>\n",
       "    </tr>\n",
       "    <tr>\n",
       "      <th>2</th>\n",
       "      <td>Bernard Arnault &amp; family</td>\n",
       "      <td>$150 B</td>\n",
       "      <td>France</td>\n",
       "      <td>LVMH</td>\n",
       "      <td>3</td>\n",
       "      <td>72.0</td>\n",
       "      <td>Fashion &amp; Retail</td>\n",
       "    </tr>\n",
       "    <tr>\n",
       "      <th>3</th>\n",
       "      <td>Bill Gates</td>\n",
       "      <td>$124 B</td>\n",
       "      <td>United States</td>\n",
       "      <td>Microsoft</td>\n",
       "      <td>4</td>\n",
       "      <td>65.0</td>\n",
       "      <td>Technology</td>\n",
       "    </tr>\n",
       "    <tr>\n",
       "      <th>4</th>\n",
       "      <td>Mark Zuckerberg</td>\n",
       "      <td>$97 B</td>\n",
       "      <td>United States</td>\n",
       "      <td>Facebook</td>\n",
       "      <td>5</td>\n",
       "      <td>36.0</td>\n",
       "      <td>Technology</td>\n",
       "    </tr>\n",
       "  </tbody>\n",
       "</table>\n",
       "</div>"
      ],
      "text/plain": [
       "                       Name NetWorth        Country         Source  Rank  \\\n",
       "0                Jeff Bezos   $177 B  United States         Amazon     1   \n",
       "1                 Elon Musk   $151 B  United States  Tesla, SpaceX     2   \n",
       "2  Bernard Arnault & family   $150 B         France           LVMH     3   \n",
       "3                Bill Gates   $124 B  United States      Microsoft     4   \n",
       "4           Mark Zuckerberg    $97 B  United States       Facebook     5   \n",
       "\n",
       "    Age          Industry  \n",
       "0  57.0        Technology  \n",
       "1  49.0        Automotive  \n",
       "2  72.0  Fashion & Retail  \n",
       "3  65.0        Technology  \n",
       "4  36.0        Technology  "
      ]
     },
     "execution_count": 2,
     "metadata": {},
     "output_type": "execute_result"
    }
   ],
   "source": [
    "df=pd.read_csv(\"Billionairelist.csv\")\n",
    "df.head()\n",
    "#Reading the dataset "
   ]
  },
  {
   "cell_type": "code",
   "execution_count": 3,
   "metadata": {},
   "outputs": [
    {
     "name": "stdout",
     "output_type": "stream",
     "text": [
      "<class 'pandas.core.frame.DataFrame'>\n",
      "RangeIndex: 2755 entries, 0 to 2754\n",
      "Data columns (total 7 columns):\n",
      " #   Column    Non-Null Count  Dtype  \n",
      "---  ------    --------------  -----  \n",
      " 0   Name      2755 non-null   object \n",
      " 1   NetWorth  2755 non-null   object \n",
      " 2   Country   2755 non-null   object \n",
      " 3   Source    2755 non-null   object \n",
      " 4   Rank      2755 non-null   int64  \n",
      " 5   Age       2676 non-null   float64\n",
      " 6   Industry  2755 non-null   object \n",
      "dtypes: float64(1), int64(1), object(5)\n",
      "memory usage: 150.8+ KB\n"
     ]
    }
   ],
   "source": [
    "df.info()\n",
    "#information of the dataset"
   ]
  },
  {
   "cell_type": "code",
   "execution_count": 4,
   "metadata": {},
   "outputs": [
    {
     "data": {
      "text/html": [
       "<div>\n",
       "<style scoped>\n",
       "    .dataframe tbody tr th:only-of-type {\n",
       "        vertical-align: middle;\n",
       "    }\n",
       "\n",
       "    .dataframe tbody tr th {\n",
       "        vertical-align: top;\n",
       "    }\n",
       "\n",
       "    .dataframe thead th {\n",
       "        text-align: right;\n",
       "    }\n",
       "</style>\n",
       "<table border=\"1\" class=\"dataframe\">\n",
       "  <thead>\n",
       "    <tr style=\"text-align: right;\">\n",
       "      <th></th>\n",
       "      <th>Rank</th>\n",
       "      <th>Age</th>\n",
       "    </tr>\n",
       "  </thead>\n",
       "  <tbody>\n",
       "    <tr>\n",
       "      <th>count</th>\n",
       "      <td>2755.000000</td>\n",
       "      <td>2676.000000</td>\n",
       "    </tr>\n",
       "    <tr>\n",
       "      <th>mean</th>\n",
       "      <td>1345.663521</td>\n",
       "      <td>63.113602</td>\n",
       "    </tr>\n",
       "    <tr>\n",
       "      <th>std</th>\n",
       "      <td>772.669811</td>\n",
       "      <td>13.445153</td>\n",
       "    </tr>\n",
       "    <tr>\n",
       "      <th>min</th>\n",
       "      <td>1.000000</td>\n",
       "      <td>18.000000</td>\n",
       "    </tr>\n",
       "    <tr>\n",
       "      <th>25%</th>\n",
       "      <td>680.000000</td>\n",
       "      <td>54.000000</td>\n",
       "    </tr>\n",
       "    <tr>\n",
       "      <th>50%</th>\n",
       "      <td>1362.000000</td>\n",
       "      <td>63.000000</td>\n",
       "    </tr>\n",
       "    <tr>\n",
       "      <th>75%</th>\n",
       "      <td>2035.000000</td>\n",
       "      <td>73.000000</td>\n",
       "    </tr>\n",
       "    <tr>\n",
       "      <th>max</th>\n",
       "      <td>2674.000000</td>\n",
       "      <td>99.000000</td>\n",
       "    </tr>\n",
       "  </tbody>\n",
       "</table>\n",
       "</div>"
      ],
      "text/plain": [
       "              Rank          Age\n",
       "count  2755.000000  2676.000000\n",
       "mean   1345.663521    63.113602\n",
       "std     772.669811    13.445153\n",
       "min       1.000000    18.000000\n",
       "25%     680.000000    54.000000\n",
       "50%    1362.000000    63.000000\n",
       "75%    2035.000000    73.000000\n",
       "max    2674.000000    99.000000"
      ]
     },
     "execution_count": 4,
     "metadata": {},
     "output_type": "execute_result"
    }
   ],
   "source": [
    "df.describe()\n",
    "#describing the numerical data"
   ]
  },
  {
   "cell_type": "markdown",
   "metadata": {},
   "source": [
    "Making some changes in the dataset so the dataset is ready for analysis"
   ]
  },
  {
   "cell_type": "code",
   "execution_count": 5,
   "metadata": {},
   "outputs": [
    {
     "data": {
      "text/plain": [
       "Name         0\n",
       "NetWorth     0\n",
       "Country      0\n",
       "Source       0\n",
       "Rank         0\n",
       "Age         79\n",
       "Industry     0\n",
       "dtype: int64"
      ]
     },
     "execution_count": 5,
     "metadata": {},
     "output_type": "execute_result"
    }
   ],
   "source": [
    "df.isnull().sum()\n",
    "#checking for null values in the dataset"
   ]
  },
  {
   "cell_type": "code",
   "execution_count": 6,
   "metadata": {},
   "outputs": [],
   "source": [
    "df=df.dropna()\n",
    "#Droping the rows having null values\n",
    "#By default axis=0"
   ]
  },
  {
   "cell_type": "code",
   "execution_count": 7,
   "metadata": {},
   "outputs": [
    {
     "data": {
      "text/plain": [
       "Name        0\n",
       "NetWorth    0\n",
       "Country     0\n",
       "Source      0\n",
       "Rank        0\n",
       "Age         0\n",
       "Industry    0\n",
       "dtype: int64"
      ]
     },
     "execution_count": 7,
     "metadata": {},
     "output_type": "execute_result"
    }
   ],
   "source": [
    "df.isnull().sum()"
   ]
  },
  {
   "cell_type": "code",
   "execution_count": 8,
   "metadata": {},
   "outputs": [
    {
     "data": {
      "text/plain": [
       "False    2676\n",
       "dtype: int64"
      ]
     },
     "execution_count": 8,
     "metadata": {},
     "output_type": "execute_result"
    }
   ],
   "source": [
    "df.duplicated().value_counts()\n",
    "#No duplicates in the dataset"
   ]
  },
  {
   "cell_type": "code",
   "execution_count": 9,
   "metadata": {},
   "outputs": [],
   "source": [
    "df.NetWorth=df.NetWorth.str.replace('$','')\n",
    "df.NetWorth=df.NetWorth.str.replace('B','')\n",
    "df.NetWorth=df.NetWorth.astype(\"float\")\n",
    "#Here the NetWorth column was not in float, Since we will be performing arithmetic operations for \n",
    "#analysis we need the values to be in appropriate format"
   ]
  },
  {
   "cell_type": "code",
   "execution_count": 10,
   "metadata": {},
   "outputs": [
    {
     "data": {
      "text/html": [
       "<div>\n",
       "<style scoped>\n",
       "    .dataframe tbody tr th:only-of-type {\n",
       "        vertical-align: middle;\n",
       "    }\n",
       "\n",
       "    .dataframe tbody tr th {\n",
       "        vertical-align: top;\n",
       "    }\n",
       "\n",
       "    .dataframe thead th {\n",
       "        text-align: right;\n",
       "    }\n",
       "</style>\n",
       "<table border=\"1\" class=\"dataframe\">\n",
       "  <thead>\n",
       "    <tr style=\"text-align: right;\">\n",
       "      <th></th>\n",
       "      <th>Name</th>\n",
       "      <th>NetWorth</th>\n",
       "      <th>Country</th>\n",
       "      <th>Source</th>\n",
       "      <th>Rank</th>\n",
       "      <th>Age</th>\n",
       "      <th>Industry</th>\n",
       "    </tr>\n",
       "  </thead>\n",
       "  <tbody>\n",
       "    <tr>\n",
       "      <th>0</th>\n",
       "      <td>Jeff Bezos</td>\n",
       "      <td>177.0</td>\n",
       "      <td>United States</td>\n",
       "      <td>Amazon</td>\n",
       "      <td>1</td>\n",
       "      <td>57.0</td>\n",
       "      <td>Technology</td>\n",
       "    </tr>\n",
       "    <tr>\n",
       "      <th>1</th>\n",
       "      <td>Elon Musk</td>\n",
       "      <td>151.0</td>\n",
       "      <td>United States</td>\n",
       "      <td>Tesla, SpaceX</td>\n",
       "      <td>2</td>\n",
       "      <td>49.0</td>\n",
       "      <td>Automotive</td>\n",
       "    </tr>\n",
       "    <tr>\n",
       "      <th>2</th>\n",
       "      <td>Bernard Arnault &amp; family</td>\n",
       "      <td>150.0</td>\n",
       "      <td>France</td>\n",
       "      <td>LVMH</td>\n",
       "      <td>3</td>\n",
       "      <td>72.0</td>\n",
       "      <td>Fashion &amp; Retail</td>\n",
       "    </tr>\n",
       "    <tr>\n",
       "      <th>3</th>\n",
       "      <td>Bill Gates</td>\n",
       "      <td>124.0</td>\n",
       "      <td>United States</td>\n",
       "      <td>Microsoft</td>\n",
       "      <td>4</td>\n",
       "      <td>65.0</td>\n",
       "      <td>Technology</td>\n",
       "    </tr>\n",
       "    <tr>\n",
       "      <th>4</th>\n",
       "      <td>Mark Zuckerberg</td>\n",
       "      <td>97.0</td>\n",
       "      <td>United States</td>\n",
       "      <td>Facebook</td>\n",
       "      <td>5</td>\n",
       "      <td>36.0</td>\n",
       "      <td>Technology</td>\n",
       "    </tr>\n",
       "  </tbody>\n",
       "</table>\n",
       "</div>"
      ],
      "text/plain": [
       "                       Name  NetWorth        Country         Source  Rank  \\\n",
       "0                Jeff Bezos     177.0  United States         Amazon     1   \n",
       "1                 Elon Musk     151.0  United States  Tesla, SpaceX     2   \n",
       "2  Bernard Arnault & family     150.0         France           LVMH     3   \n",
       "3                Bill Gates     124.0  United States      Microsoft     4   \n",
       "4           Mark Zuckerberg      97.0  United States       Facebook     5   \n",
       "\n",
       "    Age          Industry  \n",
       "0  57.0        Technology  \n",
       "1  49.0        Automotive  \n",
       "2  72.0  Fashion & Retail  \n",
       "3  65.0        Technology  \n",
       "4  36.0        Technology  "
      ]
     },
     "execution_count": 10,
     "metadata": {},
     "output_type": "execute_result"
    }
   ],
   "source": [
    "df.head()"
   ]
  },
  {
   "cell_type": "markdown",
   "metadata": {},
   "source": [
    "Now there are no null values in the dataset\n",
    "The Net Worth Attribute is modified and converted to float for further statistic operations\n",
    "Note that all the values in NetWorth are in Billion"
   ]
  },
  {
   "cell_type": "markdown",
   "metadata": {},
   "source": [
    "# Analysis 1"
   ]
  },
  {
   "cell_type": "code",
   "execution_count": 11,
   "metadata": {},
   "outputs": [
    {
     "data": {
      "text/plain": [
       "Name        2673\n",
       "NetWorth     245\n",
       "Country       70\n",
       "Source       909\n",
       "Rank         245\n",
       "Age           76\n",
       "Industry      18\n",
       "dtype: int64"
      ]
     },
     "execution_count": 11,
     "metadata": {},
     "output_type": "execute_result"
    }
   ],
   "source": [
    "df.nunique()"
   ]
  },
  {
   "cell_type": "code",
   "execution_count": 12,
   "metadata": {},
   "outputs": [
    {
     "data": {
      "text/html": [
       "<div>\n",
       "<style scoped>\n",
       "    .dataframe tbody tr th:only-of-type {\n",
       "        vertical-align: middle;\n",
       "    }\n",
       "\n",
       "    .dataframe tbody tr th {\n",
       "        vertical-align: top;\n",
       "    }\n",
       "\n",
       "    .dataframe thead th {\n",
       "        text-align: right;\n",
       "    }\n",
       "</style>\n",
       "<table border=\"1\" class=\"dataframe\">\n",
       "  <thead>\n",
       "    <tr style=\"text-align: right;\">\n",
       "      <th></th>\n",
       "      <th>Name</th>\n",
       "      <th>Country</th>\n",
       "      <th>Source</th>\n",
       "      <th>Industry</th>\n",
       "    </tr>\n",
       "  </thead>\n",
       "  <tbody>\n",
       "    <tr>\n",
       "      <th>count</th>\n",
       "      <td>2676</td>\n",
       "      <td>2676</td>\n",
       "      <td>2676</td>\n",
       "      <td>2676</td>\n",
       "    </tr>\n",
       "    <tr>\n",
       "      <th>unique</th>\n",
       "      <td>2673</td>\n",
       "      <td>70</td>\n",
       "      <td>909</td>\n",
       "      <td>18</td>\n",
       "    </tr>\n",
       "    <tr>\n",
       "      <th>top</th>\n",
       "      <td>Li Li</td>\n",
       "      <td>United States</td>\n",
       "      <td>real estate</td>\n",
       "      <td>Finance &amp; Investments</td>\n",
       "    </tr>\n",
       "    <tr>\n",
       "      <th>freq</th>\n",
       "      <td>2</td>\n",
       "      <td>720</td>\n",
       "      <td>169</td>\n",
       "      <td>365</td>\n",
       "    </tr>\n",
       "  </tbody>\n",
       "</table>\n",
       "</div>"
      ],
      "text/plain": [
       "         Name        Country       Source               Industry\n",
       "count    2676           2676         2676                   2676\n",
       "unique   2673             70          909                     18\n",
       "top     Li Li  United States  real estate  Finance & Investments\n",
       "freq        2            720          169                    365"
      ]
     },
     "execution_count": 12,
     "metadata": {},
     "output_type": "execute_result"
    }
   ],
   "source": [
    "df.describe(include=[\"object\"])"
   ]
  },
  {
   "cell_type": "code",
   "execution_count": 13,
   "metadata": {},
   "outputs": [
    {
     "data": {
      "text/html": [
       "<div>\n",
       "<style scoped>\n",
       "    .dataframe tbody tr th:only-of-type {\n",
       "        vertical-align: middle;\n",
       "    }\n",
       "\n",
       "    .dataframe tbody tr th {\n",
       "        vertical-align: top;\n",
       "    }\n",
       "\n",
       "    .dataframe thead th {\n",
       "        text-align: right;\n",
       "    }\n",
       "</style>\n",
       "<table border=\"1\" class=\"dataframe\">\n",
       "  <thead>\n",
       "    <tr style=\"text-align: right;\">\n",
       "      <th></th>\n",
       "      <th>Name</th>\n",
       "      <th>NetWorth</th>\n",
       "      <th>Country</th>\n",
       "      <th>Source</th>\n",
       "      <th>Rank</th>\n",
       "      <th>Age</th>\n",
       "      <th>Industry</th>\n",
       "    </tr>\n",
       "  </thead>\n",
       "  <tbody>\n",
       "    <tr>\n",
       "      <th>0</th>\n",
       "      <td>Jeff Bezos</td>\n",
       "      <td>177.0</td>\n",
       "      <td>United States</td>\n",
       "      <td>Amazon</td>\n",
       "      <td>1</td>\n",
       "      <td>57.0</td>\n",
       "      <td>Technology</td>\n",
       "    </tr>\n",
       "    <tr>\n",
       "      <th>1</th>\n",
       "      <td>Elon Musk</td>\n",
       "      <td>151.0</td>\n",
       "      <td>United States</td>\n",
       "      <td>Tesla, SpaceX</td>\n",
       "      <td>2</td>\n",
       "      <td>49.0</td>\n",
       "      <td>Automotive</td>\n",
       "    </tr>\n",
       "    <tr>\n",
       "      <th>2</th>\n",
       "      <td>Bernard Arnault &amp; family</td>\n",
       "      <td>150.0</td>\n",
       "      <td>France</td>\n",
       "      <td>LVMH</td>\n",
       "      <td>3</td>\n",
       "      <td>72.0</td>\n",
       "      <td>Fashion &amp; Retail</td>\n",
       "    </tr>\n",
       "    <tr>\n",
       "      <th>3</th>\n",
       "      <td>Bill Gates</td>\n",
       "      <td>124.0</td>\n",
       "      <td>United States</td>\n",
       "      <td>Microsoft</td>\n",
       "      <td>4</td>\n",
       "      <td>65.0</td>\n",
       "      <td>Technology</td>\n",
       "    </tr>\n",
       "    <tr>\n",
       "      <th>4</th>\n",
       "      <td>Mark Zuckerberg</td>\n",
       "      <td>97.0</td>\n",
       "      <td>United States</td>\n",
       "      <td>Facebook</td>\n",
       "      <td>5</td>\n",
       "      <td>36.0</td>\n",
       "      <td>Technology</td>\n",
       "    </tr>\n",
       "    <tr>\n",
       "      <th>5</th>\n",
       "      <td>Warren Buffett</td>\n",
       "      <td>96.0</td>\n",
       "      <td>United States</td>\n",
       "      <td>Berkshire Hathaway</td>\n",
       "      <td>6</td>\n",
       "      <td>90.0</td>\n",
       "      <td>Finance &amp; Investments</td>\n",
       "    </tr>\n",
       "    <tr>\n",
       "      <th>6</th>\n",
       "      <td>Larry Ellison</td>\n",
       "      <td>93.0</td>\n",
       "      <td>United States</td>\n",
       "      <td>software</td>\n",
       "      <td>7</td>\n",
       "      <td>76.0</td>\n",
       "      <td>Technology</td>\n",
       "    </tr>\n",
       "    <tr>\n",
       "      <th>7</th>\n",
       "      <td>Larry Page</td>\n",
       "      <td>91.5</td>\n",
       "      <td>United States</td>\n",
       "      <td>Google</td>\n",
       "      <td>8</td>\n",
       "      <td>48.0</td>\n",
       "      <td>Technology</td>\n",
       "    </tr>\n",
       "    <tr>\n",
       "      <th>8</th>\n",
       "      <td>Sergey Brin</td>\n",
       "      <td>89.0</td>\n",
       "      <td>United States</td>\n",
       "      <td>Google</td>\n",
       "      <td>9</td>\n",
       "      <td>47.0</td>\n",
       "      <td>Technology</td>\n",
       "    </tr>\n",
       "    <tr>\n",
       "      <th>9</th>\n",
       "      <td>Mukesh Ambani</td>\n",
       "      <td>84.5</td>\n",
       "      <td>India</td>\n",
       "      <td>diversified</td>\n",
       "      <td>10</td>\n",
       "      <td>63.0</td>\n",
       "      <td>Diversified</td>\n",
       "    </tr>\n",
       "  </tbody>\n",
       "</table>\n",
       "</div>"
      ],
      "text/plain": [
       "                       Name  NetWorth        Country              Source  \\\n",
       "0                Jeff Bezos     177.0  United States              Amazon   \n",
       "1                 Elon Musk     151.0  United States       Tesla, SpaceX   \n",
       "2  Bernard Arnault & family     150.0         France                LVMH   \n",
       "3                Bill Gates     124.0  United States           Microsoft   \n",
       "4           Mark Zuckerberg      97.0  United States            Facebook   \n",
       "5            Warren Buffett      96.0  United States  Berkshire Hathaway   \n",
       "6             Larry Ellison      93.0  United States            software   \n",
       "7                Larry Page      91.5  United States              Google   \n",
       "8               Sergey Brin      89.0  United States              Google   \n",
       "9             Mukesh Ambani      84.5          India         diversified   \n",
       "\n",
       "   Rank   Age               Industry  \n",
       "0     1  57.0             Technology  \n",
       "1     2  49.0             Automotive  \n",
       "2     3  72.0       Fashion & Retail  \n",
       "3     4  65.0             Technology  \n",
       "4     5  36.0             Technology  \n",
       "5     6  90.0  Finance & Investments  \n",
       "6     7  76.0             Technology  \n",
       "7     8  48.0             Technology  \n",
       "8     9  47.0             Technology  \n",
       "9    10  63.0            Diversified  "
      ]
     },
     "execution_count": 13,
     "metadata": {},
     "output_type": "execute_result"
    }
   ],
   "source": [
    "df.head(10)\n",
    "#Top 10 billionaires in the world"
   ]
  },
  {
   "cell_type": "code",
   "execution_count": 14,
   "metadata": {},
   "outputs": [
    {
     "data": {
      "text/html": [
       "<div>\n",
       "<style scoped>\n",
       "    .dataframe tbody tr th:only-of-type {\n",
       "        vertical-align: middle;\n",
       "    }\n",
       "\n",
       "    .dataframe tbody tr th {\n",
       "        vertical-align: top;\n",
       "    }\n",
       "\n",
       "    .dataframe thead th {\n",
       "        text-align: right;\n",
       "    }\n",
       "</style>\n",
       "<table border=\"1\" class=\"dataframe\">\n",
       "  <thead>\n",
       "    <tr style=\"text-align: right;\">\n",
       "      <th></th>\n",
       "      <th>Name</th>\n",
       "      <th>NetWorth</th>\n",
       "      <th>Country</th>\n",
       "      <th>Source</th>\n",
       "      <th>Rank</th>\n",
       "      <th>Age</th>\n",
       "      <th>Industry</th>\n",
       "    </tr>\n",
       "  </thead>\n",
       "  <tbody>\n",
       "    <tr>\n",
       "      <th>940</th>\n",
       "      <td>Kevin David Lehmann</td>\n",
       "      <td>3.3</td>\n",
       "      <td>Germany</td>\n",
       "      <td>drugstores</td>\n",
       "      <td>925</td>\n",
       "      <td>18.0</td>\n",
       "      <td>Fashion &amp; Retail</td>\n",
       "    </tr>\n",
       "  </tbody>\n",
       "</table>\n",
       "</div>"
      ],
      "text/plain": [
       "                    Name  NetWorth  Country      Source  Rank   Age  \\\n",
       "940  Kevin David Lehmann       3.3  Germany  drugstores   925  18.0   \n",
       "\n",
       "             Industry  \n",
       "940  Fashion & Retail  "
      ]
     },
     "execution_count": 14,
     "metadata": {},
     "output_type": "execute_result"
    }
   ],
   "source": [
    "df[df.Age==df.Age.min()]\n",
    "#Youngest Billionaire in the world"
   ]
  },
  {
   "cell_type": "code",
   "execution_count": 15,
   "metadata": {},
   "outputs": [
    {
     "data": {
      "text/html": [
       "<div>\n",
       "<style scoped>\n",
       "    .dataframe tbody tr th:only-of-type {\n",
       "        vertical-align: middle;\n",
       "    }\n",
       "\n",
       "    .dataframe tbody tr th {\n",
       "        vertical-align: top;\n",
       "    }\n",
       "\n",
       "    .dataframe thead th {\n",
       "        text-align: right;\n",
       "    }\n",
       "</style>\n",
       "<table border=\"1\" class=\"dataframe\">\n",
       "  <thead>\n",
       "    <tr style=\"text-align: right;\">\n",
       "      <th></th>\n",
       "      <th>Name</th>\n",
       "      <th>NetWorth</th>\n",
       "      <th>Country</th>\n",
       "      <th>Source</th>\n",
       "      <th>Rank</th>\n",
       "      <th>Age</th>\n",
       "      <th>Industry</th>\n",
       "    </tr>\n",
       "  </thead>\n",
       "  <tbody>\n",
       "    <tr>\n",
       "      <th>1611</th>\n",
       "      <td>George Joseph</td>\n",
       "      <td>2.0</td>\n",
       "      <td>United States</td>\n",
       "      <td>insurance</td>\n",
       "      <td>1580</td>\n",
       "      <td>99.0</td>\n",
       "      <td>Finance &amp; Investments</td>\n",
       "    </tr>\n",
       "  </tbody>\n",
       "</table>\n",
       "</div>"
      ],
      "text/plain": [
       "               Name  NetWorth        Country     Source  Rank   Age  \\\n",
       "1611  George Joseph       2.0  United States  insurance  1580  99.0   \n",
       "\n",
       "                   Industry  \n",
       "1611  Finance & Investments  "
      ]
     },
     "execution_count": 15,
     "metadata": {},
     "output_type": "execute_result"
    }
   ],
   "source": [
    "df[df.Age==df.Age.max()]\n",
    "#Oldest Billionaire in the world"
   ]
  },
  {
   "cell_type": "code",
   "execution_count": 16,
   "metadata": {},
   "outputs": [
    {
     "data": {
      "text/plain": [
       "United States    720\n",
       "China            610\n",
       "India            134\n",
       "Russia           118\n",
       "Germany          115\n",
       "Name: Country, dtype: int64"
      ]
     },
     "execution_count": 16,
     "metadata": {},
     "output_type": "execute_result"
    }
   ],
   "source": [
    "df.Country.value_counts().head()\n",
    "#Top 5 Countries  in Number of Billionaires"
   ]
  },
  {
   "cell_type": "code",
   "execution_count": 17,
   "metadata": {},
   "outputs": [
    {
     "data": {
      "text/plain": [
       "Country\n",
       "Algeria           77.0\n",
       "Argentina         86.0\n",
       "Australia         65.0\n",
       "Austria           70.0\n",
       "Belgium           61.0\n",
       "                  ... \n",
       "United Kingdom    67.0\n",
       "United States     66.0\n",
       "Venezuela         61.0\n",
       "Vietnam           55.0\n",
       "Zimbabwe          60.0\n",
       "Name: Age, Length: 70, dtype: float64"
      ]
     },
     "execution_count": 17,
     "metadata": {},
     "output_type": "execute_result"
    }
   ],
   "source": [
    "df.groupby(\"Country\").Age.mean().round()\n",
    "#Average Age of the Billionaires Country wise"
   ]
  },
  {
   "cell_type": "code",
   "execution_count": 18,
   "metadata": {},
   "outputs": [
    {
     "data": {
      "text/plain": [
       "Finance & Investments         365\n",
       "Technology                    355\n",
       "Manufacturing                 317\n",
       "Fashion & Retail              268\n",
       "Healthcare                    213\n",
       "Real Estate                   211\n",
       "Food & Beverage               204\n",
       "Diversified                   180\n",
       "Energy                         99\n",
       "Media & Entertainment          92\n",
       "Metals & Mining                73\n",
       "Service                        73\n",
       "Automotive                     67\n",
       "Construction & Engineering     43\n",
       "Logistics                      35\n",
       "Telecom                        32\n",
       "Gambling & Casinos             25\n",
       "Sports                         24\n",
       "Name: Industry, dtype: int64"
      ]
     },
     "execution_count": 18,
     "metadata": {},
     "output_type": "execute_result"
    }
   ],
   "source": [
    "df.Industry.value_counts()\n",
    "#Count of Billionaires in the following Industries"
   ]
  },
  {
   "cell_type": "code",
   "execution_count": 19,
   "metadata": {},
   "outputs": [
    {
     "data": {
      "text/plain": [
       "Industry\n",
       "Automotive                    6.944776\n",
       "Construction & Engineering    2.802326\n",
       "Diversified                   4.622222\n",
       "Energy                        4.555556\n",
       "Fashion & Retail              6.291045\n",
       "Finance & Investments         4.141370\n",
       "Food & Beverage               4.782843\n",
       "Gambling & Casinos            5.360000\n",
       "Healthcare                    3.652582\n",
       "Logistics                     4.165714\n",
       "Manufacturing                 3.394953\n",
       "Media & Entertainment         5.145652\n",
       "Metals & Mining               5.858904\n",
       "Real Estate                   3.769194\n",
       "Service                       3.289041\n",
       "Sports                        3.404167\n",
       "Technology                    6.850141\n",
       "Telecom                       6.543750\n",
       "Name: NetWorth, dtype: float64"
      ]
     },
     "execution_count": 19,
     "metadata": {},
     "output_type": "execute_result"
    }
   ],
   "source": [
    "df.groupby(\"Industry\").NetWorth.mean()\n",
    "#Mean Net Worth in the following Industries"
   ]
  },
  {
   "cell_type": "code",
   "execution_count": 20,
   "metadata": {},
   "outputs": [
    {
     "data": {
      "text/plain": [
       "Industry\n",
       "Automotive                    61.0\n",
       "Construction & Engineering    65.0\n",
       "Diversified                   67.0\n",
       "Energy                        65.0\n",
       "Fashion & Retail              66.0\n",
       "Finance & Investments         65.0\n",
       "Food & Beverage               65.0\n",
       "Gambling & Casinos            67.0\n",
       "Healthcare                    63.0\n",
       "Logistics                     66.0\n",
       "Manufacturing                 62.0\n",
       "Media & Entertainment         62.0\n",
       "Metals & Mining               59.0\n",
       "Real Estate                   66.0\n",
       "Service                       63.0\n",
       "Sports                        71.0\n",
       "Technology                    55.0\n",
       "Telecom                       65.0\n",
       "Name: Age, dtype: float64"
      ]
     },
     "execution_count": 20,
     "metadata": {},
     "output_type": "execute_result"
    }
   ],
   "source": [
    "df.groupby(\"Industry\").Age.mean().round()\n",
    "#Mean Age in the following Industries"
   ]
  },
  {
   "cell_type": "code",
   "execution_count": 21,
   "metadata": {},
   "outputs": [
    {
     "data": {
      "text/plain": [
       "Country\n",
       "Algeria           77.000000\n",
       "Argentina         85.750000\n",
       "Australia         65.302326\n",
       "Austria           69.583333\n",
       "Belgium           60.666667\n",
       "                    ...    \n",
       "United Kingdom    66.722222\n",
       "United States     66.009722\n",
       "Venezuela         61.000000\n",
       "Vietnam           55.000000\n",
       "Zimbabwe          60.000000\n",
       "Name: Age, Length: 70, dtype: float64"
      ]
     },
     "execution_count": 21,
     "metadata": {},
     "output_type": "execute_result"
    }
   ],
   "source": [
    "df.groupby(\"Country\").Age.mean()\n",
    "#Mean Age in the Country wise"
   ]
  },
  {
   "cell_type": "code",
   "execution_count": 22,
   "metadata": {},
   "outputs": [
    {
     "data": {
      "text/plain": [
       "<AxesSubplot:xlabel='Industry'>"
      ]
     },
     "execution_count": 22,
     "metadata": {},
     "output_type": "execute_result"
    },
    {
     "data": {
      "image/png": "[encoded data removed]",
      "text/plain": [
       "<Figure size 432x288 with 1 Axes>"
      ]
     },
     "metadata": {
      "needs_background": "light"
     },
     "output_type": "display_data"
    }
   ],
   "source": [
    "df.value_counts(\"Industry\").plot(kind=\"bar\")"
   ]
  },
  {
   "cell_type": "markdown",
   "metadata": {},
   "source": [
    "# Analysis of Indian Billionaires"
   ]
  },
  {
   "cell_type": "code",
   "execution_count": 23,
   "metadata": {},
   "outputs": [],
   "source": [
    "df_India=df[df.Country==\"India\"]\n",
    "#Creating New Data Set for Indian Billionaires"
   ]
  },
  {
   "cell_type": "code",
   "execution_count": 24,
   "metadata": {},
   "outputs": [
    {
     "data": {
      "text/plain": [
       "Name        134\n",
       "NetWorth    134\n",
       "Country     134\n",
       "Source      134\n",
       "Rank        134\n",
       "Age         134\n",
       "Industry    134\n",
       "dtype: int64"
      ]
     },
     "execution_count": 24,
     "metadata": {},
     "output_type": "execute_result"
    }
   ],
   "source": [
    "df_India.count()"
   ]
  },
  {
   "cell_type": "code",
   "execution_count": 25,
   "metadata": {},
   "outputs": [
    {
     "data": {
      "text/html": [
       "<div>\n",
       "<style scoped>\n",
       "    .dataframe tbody tr th:only-of-type {\n",
       "        vertical-align: middle;\n",
       "    }\n",
       "\n",
       "    .dataframe tbody tr th {\n",
       "        vertical-align: top;\n",
       "    }\n",
       "\n",
       "    .dataframe thead th {\n",
       "        text-align: right;\n",
       "    }\n",
       "</style>\n",
       "<table border=\"1\" class=\"dataframe\">\n",
       "  <thead>\n",
       "    <tr style=\"text-align: right;\">\n",
       "      <th></th>\n",
       "      <th>Name</th>\n",
       "      <th>NetWorth</th>\n",
       "      <th>Country</th>\n",
       "      <th>Source</th>\n",
       "      <th>Rank</th>\n",
       "      <th>Age</th>\n",
       "      <th>Industry</th>\n",
       "    </tr>\n",
       "  </thead>\n",
       "  <tbody>\n",
       "    <tr>\n",
       "      <th>9</th>\n",
       "      <td>Mukesh Ambani</td>\n",
       "      <td>84.5</td>\n",
       "      <td>India</td>\n",
       "      <td>diversified</td>\n",
       "      <td>10</td>\n",
       "      <td>63.0</td>\n",
       "      <td>Diversified</td>\n",
       "    </tr>\n",
       "    <tr>\n",
       "      <th>23</th>\n",
       "      <td>Gautam Adani &amp; family</td>\n",
       "      <td>50.5</td>\n",
       "      <td>India</td>\n",
       "      <td>infrastructure, commodities</td>\n",
       "      <td>24</td>\n",
       "      <td>58.0</td>\n",
       "      <td>Diversified</td>\n",
       "    </tr>\n",
       "    <tr>\n",
       "      <th>71</th>\n",
       "      <td>Shiv Nadar</td>\n",
       "      <td>23.5</td>\n",
       "      <td>India</td>\n",
       "      <td>software services</td>\n",
       "      <td>71</td>\n",
       "      <td>75.0</td>\n",
       "      <td>Technology</td>\n",
       "    </tr>\n",
       "    <tr>\n",
       "      <th>116</th>\n",
       "      <td>Radhakishan Damani</td>\n",
       "      <td>16.5</td>\n",
       "      <td>India</td>\n",
       "      <td>retail, investments</td>\n",
       "      <td>117</td>\n",
       "      <td>66.0</td>\n",
       "      <td>Fashion &amp; Retail</td>\n",
       "    </tr>\n",
       "    <tr>\n",
       "      <th>122</th>\n",
       "      <td>Uday Kotak</td>\n",
       "      <td>15.9</td>\n",
       "      <td>India</td>\n",
       "      <td>banking</td>\n",
       "      <td>121</td>\n",
       "      <td>62.0</td>\n",
       "      <td>Finance &amp; Investments</td>\n",
       "    </tr>\n",
       "    <tr>\n",
       "      <th>133</th>\n",
       "      <td>Lakshmi Mittal</td>\n",
       "      <td>14.9</td>\n",
       "      <td>India</td>\n",
       "      <td>steel</td>\n",
       "      <td>133</td>\n",
       "      <td>70.0</td>\n",
       "      <td>Metals &amp; Mining</td>\n",
       "    </tr>\n",
       "    <tr>\n",
       "      <th>167</th>\n",
       "      <td>Kumar Birla</td>\n",
       "      <td>12.8</td>\n",
       "      <td>India</td>\n",
       "      <td>commodities</td>\n",
       "      <td>168</td>\n",
       "      <td>53.0</td>\n",
       "      <td>Diversified</td>\n",
       "    </tr>\n",
       "    <tr>\n",
       "      <th>169</th>\n",
       "      <td>Cyrus Poonawalla</td>\n",
       "      <td>12.7</td>\n",
       "      <td>India</td>\n",
       "      <td>vaccines</td>\n",
       "      <td>169</td>\n",
       "      <td>79.0</td>\n",
       "      <td>Healthcare</td>\n",
       "    </tr>\n",
       "    <tr>\n",
       "      <th>203</th>\n",
       "      <td>Dilip Shanghvi</td>\n",
       "      <td>10.9</td>\n",
       "      <td>India</td>\n",
       "      <td>pharmaceuticals</td>\n",
       "      <td>203</td>\n",
       "      <td>65.0</td>\n",
       "      <td>Healthcare</td>\n",
       "    </tr>\n",
       "    <tr>\n",
       "      <th>213</th>\n",
       "      <td>Sunil Mittal &amp; family</td>\n",
       "      <td>10.5</td>\n",
       "      <td>India</td>\n",
       "      <td>telecom</td>\n",
       "      <td>213</td>\n",
       "      <td>63.0</td>\n",
       "      <td>Telecom</td>\n",
       "    </tr>\n",
       "  </tbody>\n",
       "</table>\n",
       "</div>"
      ],
      "text/plain": [
       "                      Name  NetWorth Country                       Source  \\\n",
       "9            Mukesh Ambani      84.5   India                  diversified   \n",
       "23   Gautam Adani & family      50.5   India  infrastructure, commodities   \n",
       "71              Shiv Nadar      23.5   India            software services   \n",
       "116     Radhakishan Damani      16.5   India          retail, investments   \n",
       "122             Uday Kotak      15.9   India                      banking   \n",
       "133         Lakshmi Mittal      14.9   India                        steel   \n",
       "167            Kumar Birla      12.8   India                  commodities   \n",
       "169       Cyrus Poonawalla      12.7   India                     vaccines   \n",
       "203         Dilip Shanghvi      10.9   India              pharmaceuticals   \n",
       "213  Sunil Mittal & family      10.5   India                      telecom   \n",
       "\n",
       "     Rank   Age               Industry  \n",
       "9      10  63.0            Diversified  \n",
       "23     24  58.0            Diversified  \n",
       "71     71  75.0             Technology  \n",
       "116   117  66.0       Fashion & Retail  \n",
       "122   121  62.0  Finance & Investments  \n",
       "133   133  70.0        Metals & Mining  \n",
       "167   168  53.0            Diversified  \n",
       "169   169  79.0             Healthcare  \n",
       "203   203  65.0             Healthcare  \n",
       "213   213  63.0                Telecom  "
      ]
     },
     "execution_count": 25,
     "metadata": {},
     "output_type": "execute_result"
    }
   ],
   "source": [
    "df_India.head(10)\n",
    "#Top 10 billionaires in India\n",
    "#Mukesh Ambani Tops the list with Net Worth of 84.5 Billion"
   ]
  },
  {
   "cell_type": "code",
   "execution_count": 26,
   "metadata": {},
   "outputs": [
    {
     "data": {
      "text/html": [
       "<div>\n",
       "<style scoped>\n",
       "    .dataframe tbody tr th:only-of-type {\n",
       "        vertical-align: middle;\n",
       "    }\n",
       "\n",
       "    .dataframe tbody tr th {\n",
       "        vertical-align: top;\n",
       "    }\n",
       "\n",
       "    .dataframe thead th {\n",
       "        text-align: right;\n",
       "    }\n",
       "</style>\n",
       "<table border=\"1\" class=\"dataframe\">\n",
       "  <thead>\n",
       "    <tr style=\"text-align: right;\">\n",
       "      <th></th>\n",
       "      <th>Name</th>\n",
       "      <th>NetWorth</th>\n",
       "      <th>Country</th>\n",
       "      <th>Source</th>\n",
       "      <th>Rank</th>\n",
       "      <th>Age</th>\n",
       "      <th>Industry</th>\n",
       "    </tr>\n",
       "  </thead>\n",
       "  <tbody>\n",
       "    <tr>\n",
       "      <th>1872</th>\n",
       "      <td>Devendra Jain</td>\n",
       "      <td>1.7</td>\n",
       "      <td>India</td>\n",
       "      <td>chemicals</td>\n",
       "      <td>1833</td>\n",
       "      <td>92.0</td>\n",
       "      <td>Manufacturing</td>\n",
       "    </tr>\n",
       "  </tbody>\n",
       "</table>\n",
       "</div>"
      ],
      "text/plain": [
       "               Name  NetWorth Country     Source  Rank   Age       Industry\n",
       "1872  Devendra Jain       1.7   India  chemicals  1833  92.0  Manufacturing"
      ]
     },
     "execution_count": 26,
     "metadata": {},
     "output_type": "execute_result"
    }
   ],
   "source": [
    "df_India.sort_values(\"Age\").tail(1)\n",
    "#Oldest Indian Billionaire"
   ]
  },
  {
   "cell_type": "code",
   "execution_count": 27,
   "metadata": {},
   "outputs": [
    {
     "data": {
      "text/html": [
       "<div>\n",
       "<style scoped>\n",
       "    .dataframe tbody tr th:only-of-type {\n",
       "        vertical-align: middle;\n",
       "    }\n",
       "\n",
       "    .dataframe tbody tr th {\n",
       "        vertical-align: top;\n",
       "    }\n",
       "\n",
       "    .dataframe thead th {\n",
       "        text-align: right;\n",
       "    }\n",
       "</style>\n",
       "<table border=\"1\" class=\"dataframe\">\n",
       "  <thead>\n",
       "    <tr style=\"text-align: right;\">\n",
       "      <th></th>\n",
       "      <th>Name</th>\n",
       "      <th>NetWorth</th>\n",
       "      <th>Country</th>\n",
       "      <th>Source</th>\n",
       "      <th>Rank</th>\n",
       "      <th>Age</th>\n",
       "      <th>Industry</th>\n",
       "    </tr>\n",
       "  </thead>\n",
       "  <tbody>\n",
       "    <tr>\n",
       "      <th>2528</th>\n",
       "      <td>Binny Bansal</td>\n",
       "      <td>1.1</td>\n",
       "      <td>India</td>\n",
       "      <td>flipkart</td>\n",
       "      <td>2524</td>\n",
       "      <td>38.0</td>\n",
       "      <td>Technology</td>\n",
       "    </tr>\n",
       "  </tbody>\n",
       "</table>\n",
       "</div>"
      ],
      "text/plain": [
       "              Name  NetWorth Country    Source  Rank   Age    Industry\n",
       "2528  Binny Bansal       1.1   India  flipkart  2524  38.0  Technology"
      ]
     },
     "execution_count": 27,
     "metadata": {},
     "output_type": "execute_result"
    }
   ],
   "source": [
    "df_India.sort_values(\"Age\").head(1)\n",
    "#Youngest Indian Billionaire"
   ]
  },
  {
   "cell_type": "code",
   "execution_count": 28,
   "metadata": {},
   "outputs": [
    {
     "data": {
      "text/plain": [
       "<AxesSubplot:xlabel='Industry'>"
      ]
     },
     "execution_count": 28,
     "metadata": {},
     "output_type": "execute_result"
    },
    {
     "data": {
      "image/png": "[encoded data removed]",
      "text/plain": [
       "<Figure size 432x288 with 1 Axes>"
      ]
     },
     "metadata": {
      "needs_background": "light"
     },
     "output_type": "display_data"
    }
   ],
   "source": [
    "df_India.value_counts(\"Industry\").plot(kind=\"bar\")\n",
    "#Count of Billionaires in the following Industries"
   ]
  },
  {
   "cell_type": "code",
   "execution_count": 29,
   "metadata": {},
   "outputs": [
    {
     "data": {
      "text/plain": [
       "<AxesSubplot:xlabel='Industry'>"
      ]
     },
     "execution_count": 29,
     "metadata": {},
     "output_type": "execute_result"
    },
    {
     "data": {
      "image/png": "[encoded data removed]",
      "text/plain": [
       "<Figure size 432x288 with 1 Axes>"
      ]
     },
     "metadata": {
      "needs_background": "light"
     },
     "output_type": "display_data"
    }
   ],
   "source": [
    "df_India.groupby(\"Industry\").Age.mean().round().plot(kind=\"bar\")\n",
    "#Mean Age of Billionaires in the following Industries"
   ]
  },
  {
   "cell_type": "markdown",
   "metadata": {},
   "source": [
    "# Analysis 2"
   ]
  },
  {
   "cell_type": "code",
   "execution_count": 30,
   "metadata": {},
   "outputs": [
    {
     "data": {
      "text/plain": [
       "<AxesSubplot:ylabel='Country'>"
      ]
     },
     "execution_count": 30,
     "metadata": {},
     "output_type": "execute_result"
    },
    {
     "data": {
      "image/png": "[encoded data removed]",
      "text/plain": [
       "<Figure size 432x288 with 1 Axes>"
      ]
     },
     "metadata": {},
     "output_type": "display_data"
    }
   ],
   "source": [
    "df.Country.value_counts().head().plot(kind=\"pie\")\n",
    "#Top 5 Countries in Number of Billionaires"
   ]
  },
  {
   "cell_type": "code",
   "execution_count": 31,
   "metadata": {},
   "outputs": [
    {
     "data": {
      "text/plain": [
       "<AxesSubplot:ylabel='Industry'>"
      ]
     },
     "execution_count": 31,
     "metadata": {},
     "output_type": "execute_result"
    },
    {
     "data": {
      "image/png": "[encoded data removed]",
      "text/plain": [
       "<Figure size 432x288 with 1 Axes>"
      ]
     },
     "metadata": {},
     "output_type": "display_data"
    }
   ],
   "source": [
    "df.Industry.value_counts().head().plot(kind=\"pie\")\n",
    "#Top 5 Industries in Number of Billionaires"
   ]
  },
  {
   "cell_type": "code",
   "execution_count": 32,
   "metadata": {},
   "outputs": [
    {
     "data": {
      "text/plain": [
       "<AxesSubplot:ylabel='Source'>"
      ]
     },
     "execution_count": 32,
     "metadata": {},
     "output_type": "execute_result"
    },
    {
     "data": {
      "image/png": "[encoded data removed]",
      "text/plain": [
       "<Figure size 432x288 with 1 Axes>"
      ]
     },
     "metadata": {},
     "output_type": "display_data"
    }
   ],
   "source": [
    "df.Source.value_counts().head().plot(kind=\"pie\")\n",
    "#Top 5 Industries in Number of Billionaires"
   ]
  },
  {
   "cell_type": "code",
   "execution_count": 33,
   "metadata": {},
   "outputs": [
    {
     "data": {
      "image/png": "[encoded data removed]",
      "text/plain": [
       "<Figure size 504x504 with 1 Axes>"
      ]
     },
     "metadata": {
      "needs_background": "light"
     },
     "output_type": "display_data"
    }
   ],
   "source": [
    "#Histogram of Industries Frequency Distribution\n",
    "#Using matplotlib\n",
    "plt.figure(figsize=(7,7))\n",
    "plt.hist(df[\"Industry\"], bins=10)\n",
    "plt.xticks(rotation=\"vertical\")\n",
    "plt.title(\"Industries Frequency Distribution\")\n",
    "plt.ylabel(\"No. of Billionaires\")\n",
    "plt.xlabel(\"Industry\")\n",
    "plt.show()"
   ]
  },
  {
   "cell_type": "code",
   "execution_count": 34,
   "metadata": {},
   "outputs": [
    {
     "data": {
      "image/png": "[encoded data removed]",
      "text/plain": [
       "<Figure size 1440x720 with 1 Axes>"
      ]
     },
     "metadata": {
      "needs_background": "light"
     },
     "output_type": "display_data"
    }
   ],
   "source": [
    "data1 = df.sort_values(by = [\"NetWorth\"], ascending=False).head(10)\n",
    "plt.figure(figsize=(20, 10))\n",
    "sns.histplot(x=\"Country\",y=\"Age\", hue=\"NetWorth\", data=data1,palette=\"Blues\")\n",
    "plt.show()\n",
    "#Histogram of Top 10 Countries having Billionaires according to Net Worth\n",
    "#Using Seaborn"
   ]
  },
  {
   "cell_type": "code",
   "execution_count": 35,
   "metadata": {},
   "outputs": [],
   "source": [
    "df_10=df.Country.value_counts().head(10)\n",
    "df1=pd.DataFrame(df_10)\n",
    "a= df1.reset_index()\n",
    "#df1.reindex(columns=[\"Country\",\"Count\"])"
   ]
  },
  {
   "cell_type": "code",
   "execution_count": 36,
   "metadata": {},
   "outputs": [
    {
     "data": {
      "text/html": [
       "<div>\n",
       "<style scoped>\n",
       "    .dataframe tbody tr th:only-of-type {\n",
       "        vertical-align: middle;\n",
       "    }\n",
       "\n",
       "    .dataframe tbody tr th {\n",
       "        vertical-align: top;\n",
       "    }\n",
       "\n",
       "    .dataframe thead th {\n",
       "        text-align: right;\n",
       "    }\n",
       "</style>\n",
       "<table border=\"1\" class=\"dataframe\">\n",
       "  <thead>\n",
       "    <tr style=\"text-align: right;\">\n",
       "      <th></th>\n",
       "      <th>Country</th>\n",
       "      <th>Count</th>\n",
       "    </tr>\n",
       "  </thead>\n",
       "  <tbody>\n",
       "    <tr>\n",
       "      <th>0</th>\n",
       "      <td>United States</td>\n",
       "      <td>720</td>\n",
       "    </tr>\n",
       "    <tr>\n",
       "      <th>1</th>\n",
       "      <td>China</td>\n",
       "      <td>610</td>\n",
       "    </tr>\n",
       "    <tr>\n",
       "      <th>2</th>\n",
       "      <td>India</td>\n",
       "      <td>134</td>\n",
       "    </tr>\n",
       "    <tr>\n",
       "      <th>3</th>\n",
       "      <td>Russia</td>\n",
       "      <td>118</td>\n",
       "    </tr>\n",
       "    <tr>\n",
       "      <th>4</th>\n",
       "      <td>Germany</td>\n",
       "      <td>115</td>\n",
       "    </tr>\n",
       "    <tr>\n",
       "      <th>5</th>\n",
       "      <td>Hong Kong</td>\n",
       "      <td>68</td>\n",
       "    </tr>\n",
       "    <tr>\n",
       "      <th>6</th>\n",
       "      <td>Brazil</td>\n",
       "      <td>61</td>\n",
       "    </tr>\n",
       "    <tr>\n",
       "      <th>7</th>\n",
       "      <td>Canada</td>\n",
       "      <td>60</td>\n",
       "    </tr>\n",
       "    <tr>\n",
       "      <th>8</th>\n",
       "      <td>United Kingdom</td>\n",
       "      <td>54</td>\n",
       "    </tr>\n",
       "    <tr>\n",
       "      <th>9</th>\n",
       "      <td>Italy</td>\n",
       "      <td>49</td>\n",
       "    </tr>\n",
       "  </tbody>\n",
       "</table>\n",
       "</div>"
      ],
      "text/plain": [
       "          Country  Count\n",
       "0   United States    720\n",
       "1           China    610\n",
       "2           India    134\n",
       "3          Russia    118\n",
       "4         Germany    115\n",
       "5       Hong Kong     68\n",
       "6          Brazil     61\n",
       "7          Canada     60\n",
       "8  United Kingdom     54\n",
       "9           Italy     49"
      ]
     },
     "execution_count": 36,
     "metadata": {},
     "output_type": "execute_result"
    }
   ],
   "source": [
    "a.columns=['Country','Count']\n",
    "a\n",
    "#Countries with maximum number of Billionaires"
   ]
  },
  {
   "cell_type": "code",
   "execution_count": 37,
   "metadata": {},
   "outputs": [
    {
     "data": {
      "image/png": "[encoded data removed]",
      "text/plain": [
       "<Figure size 1152x720 with 4 Axes>"
      ]
     },
     "metadata": {
      "needs_background": "light"
     },
     "output_type": "display_data"
    }
   ],
   "source": [
    "fig,axes=plt.subplots(2,2,figsize=(16,10))\n",
    "sns.countplot(data=df,y=\"Industry\",ax=axes[0,0])\n",
    "sns.distplot(df[\"Age\"],ax=axes[0,1])\n",
    "sns.scatterplot(data=df, x=\"Age\",y=\"Industry\",ax=axes[1,0])\n",
    "sns.boxplot(data=df,x=\"Age\",ax=axes[1,1])\n",
    "plt.show()\n"
   ]
  },
  {
   "cell_type": "code",
   "execution_count": 38,
   "metadata": {},
   "outputs": [],
   "source": [
    "corr=df.corr()"
   ]
  },
  {
   "cell_type": "code",
   "execution_count": 39,
   "metadata": {},
   "outputs": [
    {
     "data": {
      "image/png": "[encoded data removed]",
      "text/plain": [
       "<Figure size 432x288 with 2 Axes>"
      ]
     },
     "metadata": {
      "needs_background": "light"
     },
     "output_type": "display_data"
    }
   ],
   "source": [
    "sns.heatmap(corr,annot=True,cmap=\"Blues\")\n",
    "plt.show()\n",
    "#Heat map for correlations\n",
    "#There is relation between Rank And Networth\n",
    "#More the Networth Less is the Rank"
   ]
  },
  {
   "cell_type": "markdown",
   "metadata": {},
   "source": [
    "At the end of the Analysis, I came to the conclusion that United States Of America and China are the countries with maximum\n",
    "number of Billionaires which concludes that Growth and success rate of startups is more in US and China than other countries.\n",
    "Industries like Finance & Investments and Technology has a lot of demand. Many people have flourished in these industries.\n",
    "Highest paid Industry is Technology. Jeff Bezos is the richest Billionaire having Net Worth of 177 Billion Dollars.\n",
    "India's Richest Billionaire is Mukesh Ambani having Net Worth 84.5 Billion Dollars.\n",
    "Most Paid Industries in India is Manufacturing.\n"
   ]
  }
 ],
 "metadata": {
  "kernelspec": {
   "display_name": "Python 3",
   "language": "python",
   "name": "python3"
  },
  "language_info": {
   "codemirror_mode": {
    "name": "ipython",
    "version": 3
   },
   "file_extension": ".py",
   "mimetype": "text/x-python",
   "name": "python",
   "nbconvert_exporter": "python",
   "pygments_lexer": "ipython3",
   "version": "3.8.5"
  }
 },
 "nbformat": 4,
 "nbformat_minor": 4
}
